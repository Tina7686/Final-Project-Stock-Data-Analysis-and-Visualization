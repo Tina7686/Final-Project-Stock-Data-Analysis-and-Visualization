{
 "cells": [
  {
   "cell_type": "markdown",
   "id": "57a6f245",
   "metadata": {},
   "source": [
    "# Description"
   ]
  },
  {
   "cell_type": "markdown",
   "id": "b98cd85a",
   "metadata": {},
   "source": [
    "This notebook provides a comprehensive analysis of Tesla (TSLA) and GameStop (GME) stock data and revenue information. Using Python libraries such as yfinance, requests, BeautifulSoup, pandas, and matplotlib."
   ]
  },
  {
   "cell_type": "markdown",
   "id": "4b0b4429",
   "metadata": {},
   "source": [
    "# Table of Contents"
   ]
  },
  {
   "cell_type": "markdown",
   "id": "46541ad8",
   "metadata": {},
   "source": [
    "- Install Necessary Libraries\n",
    "- Module\n",
    "- Definition\n",
    "- Question 1: Use yfinance to Extract Stock Data\n",
    "- Question 2: Use Webscraping to Extract Tesla Revenue Data\n",
    "- Question 3: Use yfinance to Extract Stock Data\n",
    "- Question 4: Use Webscraping to Extract GME Revenue Data\n",
    "- Question 5: Plot Tesla Stock Graph\n",
    "- Question 6: Plot GameStop Stock Graph"
   ]
  },
  {
   "cell_type": "markdown",
   "id": "13022ffc",
   "metadata": {},
   "source": [
    "# Install Necessary Libraries"
   ]
  },
  {
   "cell_type": "code",
   "execution_count": 1,
   "id": "3e35f826",
   "metadata": {},
   "outputs": [
    {
     "name": "stdout",
     "output_type": "stream",
     "text": [
      "Requirement already satisfied: yfinance in ./anaconda3/lib/python3.10/site-packages (0.2.41)\n",
      "Requirement already satisfied: requests>=2.31 in ./anaconda3/lib/python3.10/site-packages (from yfinance) (2.32.3)\n",
      "Requirement already satisfied: beautifulsoup4>=4.11.1 in ./anaconda3/lib/python3.10/site-packages (from yfinance) (4.11.1)\n",
      "Requirement already satisfied: frozendict>=2.3.4 in ./anaconda3/lib/python3.10/site-packages (from yfinance) (2.4.4)\n",
      "Requirement already satisfied: peewee>=3.16.2 in ./anaconda3/lib/python3.10/site-packages (from yfinance) (3.17.6)\n",
      "Requirement already satisfied: lxml>=4.9.1 in ./anaconda3/lib/python3.10/site-packages (from yfinance) (4.9.1)\n",
      "Requirement already satisfied: pandas>=1.3.0 in ./anaconda3/lib/python3.10/site-packages (from yfinance) (1.5.3)\n",
      "Requirement already satisfied: html5lib>=1.1 in ./anaconda3/lib/python3.10/site-packages (from yfinance) (1.1)\n",
      "Requirement already satisfied: multitasking>=0.0.7 in ./anaconda3/lib/python3.10/site-packages (from yfinance) (0.0.11)\n",
      "Requirement already satisfied: pytz>=2022.5 in ./anaconda3/lib/python3.10/site-packages (from yfinance) (2022.7)\n",
      "Requirement already satisfied: platformdirs>=2.0.0 in ./anaconda3/lib/python3.10/site-packages (from yfinance) (2.5.2)\n",
      "Requirement already satisfied: numpy>=1.16.5 in ./anaconda3/lib/python3.10/site-packages (from yfinance) (1.26.4)\n",
      "Requirement already satisfied: soupsieve>1.2 in ./anaconda3/lib/python3.10/site-packages (from beautifulsoup4>=4.11.1->yfinance) (2.3.2.post1)\n",
      "Requirement already satisfied: six>=1.9 in ./anaconda3/lib/python3.10/site-packages (from html5lib>=1.1->yfinance) (1.16.0)\n",
      "Requirement already satisfied: webencodings in ./anaconda3/lib/python3.10/site-packages (from html5lib>=1.1->yfinance) (0.5.1)\n",
      "Requirement already satisfied: python-dateutil>=2.8.1 in ./anaconda3/lib/python3.10/site-packages (from pandas>=1.3.0->yfinance) (2.8.2)\n",
      "Requirement already satisfied: urllib3<3,>=1.21.1 in ./anaconda3/lib/python3.10/site-packages (from requests>=2.31->yfinance) (1.26.14)\n",
      "Requirement already satisfied: charset-normalizer<4,>=2 in ./anaconda3/lib/python3.10/site-packages (from requests>=2.31->yfinance) (2.0.4)\n",
      "Requirement already satisfied: idna<4,>=2.5 in ./anaconda3/lib/python3.10/site-packages (from requests>=2.31->yfinance) (3.4)\n",
      "Requirement already satisfied: certifi>=2017.4.17 in ./anaconda3/lib/python3.10/site-packages (from requests>=2.31->yfinance) (2022.12.7)\n",
      "Requirement already satisfied: pandas in ./anaconda3/lib/python3.10/site-packages (1.5.3)\n",
      "Requirement already satisfied: requests in ./anaconda3/lib/python3.10/site-packages (2.32.3)\n",
      "Requirement already satisfied: beautifulsoup4 in ./anaconda3/lib/python3.10/site-packages (4.11.1)\n",
      "Requirement already satisfied: jupyter in ./anaconda3/lib/python3.10/site-packages (1.0.0)\n",
      "Requirement already satisfied: python-dateutil>=2.8.1 in ./anaconda3/lib/python3.10/site-packages (from pandas) (2.8.2)\n",
      "Requirement already satisfied: pytz>=2020.1 in ./anaconda3/lib/python3.10/site-packages (from pandas) (2022.7)\n",
      "Requirement already satisfied: numpy>=1.21.0 in ./anaconda3/lib/python3.10/site-packages (from pandas) (1.26.4)\n",
      "Requirement already satisfied: certifi>=2017.4.17 in ./anaconda3/lib/python3.10/site-packages (from requests) (2022.12.7)\n",
      "Requirement already satisfied: urllib3<3,>=1.21.1 in ./anaconda3/lib/python3.10/site-packages (from requests) (1.26.14)\n",
      "Requirement already satisfied: idna<4,>=2.5 in ./anaconda3/lib/python3.10/site-packages (from requests) (3.4)\n",
      "Requirement already satisfied: charset-normalizer<4,>=2 in ./anaconda3/lib/python3.10/site-packages (from requests) (2.0.4)\n",
      "Requirement already satisfied: soupsieve>1.2 in ./anaconda3/lib/python3.10/site-packages (from beautifulsoup4) (2.3.2.post1)\n",
      "Requirement already satisfied: nbconvert in ./anaconda3/lib/python3.10/site-packages (from jupyter) (6.5.4)\n",
      "Requirement already satisfied: ipywidgets in ./anaconda3/lib/python3.10/site-packages (from jupyter) (7.6.5)\n",
      "Requirement already satisfied: ipykernel in ./anaconda3/lib/python3.10/site-packages (from jupyter) (6.19.2)\n",
      "Requirement already satisfied: notebook in ./anaconda3/lib/python3.10/site-packages (from jupyter) (6.5.2)\n",
      "Requirement already satisfied: qtconsole in ./anaconda3/lib/python3.10/site-packages (from jupyter) (5.4.0)\n",
      "Requirement already satisfied: jupyter-console in ./anaconda3/lib/python3.10/site-packages (from jupyter) (6.6.2)\n",
      "Requirement already satisfied: six>=1.5 in ./anaconda3/lib/python3.10/site-packages (from python-dateutil>=2.8.1->pandas) (1.16.0)\n",
      "Requirement already satisfied: matplotlib-inline>=0.1 in ./anaconda3/lib/python3.10/site-packages (from ipykernel->jupyter) (0.1.6)\n",
      "Requirement already satisfied: psutil in ./anaconda3/lib/python3.10/site-packages (from ipykernel->jupyter) (5.9.0)\n",
      "Requirement already satisfied: traitlets>=5.4.0 in ./anaconda3/lib/python3.10/site-packages (from ipykernel->jupyter) (5.7.1)\n",
      "Requirement already satisfied: ipython>=7.23.1 in ./anaconda3/lib/python3.10/site-packages (from ipykernel->jupyter) (8.10.0)\n",
      "Requirement already satisfied: debugpy>=1.0 in ./anaconda3/lib/python3.10/site-packages (from ipykernel->jupyter) (1.5.1)\n",
      "Requirement already satisfied: jupyter-client>=6.1.12 in ./anaconda3/lib/python3.10/site-packages (from ipykernel->jupyter) (7.3.4)\n",
      "Requirement already satisfied: appnope in ./anaconda3/lib/python3.10/site-packages (from ipykernel->jupyter) (0.1.2)\n",
      "Requirement already satisfied: comm>=0.1.1 in ./anaconda3/lib/python3.10/site-packages (from ipykernel->jupyter) (0.1.2)\n",
      "Requirement already satisfied: nest-asyncio in ./anaconda3/lib/python3.10/site-packages (from ipykernel->jupyter) (1.5.6)\n",
      "Requirement already satisfied: pyzmq>=17 in ./anaconda3/lib/python3.10/site-packages (from ipykernel->jupyter) (23.2.0)\n",
      "Requirement already satisfied: tornado>=6.1 in ./anaconda3/lib/python3.10/site-packages (from ipykernel->jupyter) (6.1)\n",
      "Requirement already satisfied: packaging in ./anaconda3/lib/python3.10/site-packages (from ipykernel->jupyter) (22.0)\n",
      "Requirement already satisfied: widgetsnbextension~=3.5.0 in ./anaconda3/lib/python3.10/site-packages (from ipywidgets->jupyter) (3.5.2)\n",
      "Requirement already satisfied: ipython-genutils~=0.2.0 in ./anaconda3/lib/python3.10/site-packages (from ipywidgets->jupyter) (0.2.0)\n",
      "Requirement already satisfied: jupyterlab-widgets>=1.0.0 in ./anaconda3/lib/python3.10/site-packages (from ipywidgets->jupyter) (1.0.0)\n",
      "Requirement already satisfied: nbformat>=4.2.0 in ./anaconda3/lib/python3.10/site-packages (from ipywidgets->jupyter) (5.7.0)\n",
      "Requirement already satisfied: pygments in ./anaconda3/lib/python3.10/site-packages (from jupyter-console->jupyter) (2.11.2)\n",
      "Requirement already satisfied: jupyter-core!=5.0.*,>=4.12 in ./anaconda3/lib/python3.10/site-packages (from jupyter-console->jupyter) (5.2.0)\n",
      "Requirement already satisfied: prompt-toolkit>=3.0.30 in ./anaconda3/lib/python3.10/site-packages (from jupyter-console->jupyter) (3.0.36)\n",
      "Requirement already satisfied: jupyterlab-pygments in ./anaconda3/lib/python3.10/site-packages (from nbconvert->jupyter) (0.1.2)\n",
      "Requirement already satisfied: jinja2>=3.0 in ./anaconda3/lib/python3.10/site-packages (from nbconvert->jupyter) (3.1.2)\n",
      "Requirement already satisfied: tinycss2 in ./anaconda3/lib/python3.10/site-packages (from nbconvert->jupyter) (1.2.1)\n",
      "Requirement already satisfied: defusedxml in ./anaconda3/lib/python3.10/site-packages (from nbconvert->jupyter) (0.7.1)\n",
      "Requirement already satisfied: pandocfilters>=1.4.1 in ./anaconda3/lib/python3.10/site-packages (from nbconvert->jupyter) (1.5.0)\n",
      "Requirement already satisfied: bleach in ./anaconda3/lib/python3.10/site-packages (from nbconvert->jupyter) (4.1.0)\n",
      "Requirement already satisfied: mistune<2,>=0.8.1 in ./anaconda3/lib/python3.10/site-packages (from nbconvert->jupyter) (0.8.4)\n",
      "Requirement already satisfied: nbclient>=0.5.0 in ./anaconda3/lib/python3.10/site-packages (from nbconvert->jupyter) (0.5.13)\n",
      "Requirement already satisfied: lxml in ./anaconda3/lib/python3.10/site-packages (from nbconvert->jupyter) (4.9.1)\n",
      "Requirement already satisfied: MarkupSafe>=2.0 in ./anaconda3/lib/python3.10/site-packages (from nbconvert->jupyter) (2.1.1)\n",
      "Requirement already satisfied: entrypoints>=0.2.2 in ./anaconda3/lib/python3.10/site-packages (from nbconvert->jupyter) (0.4)\n",
      "Requirement already satisfied: terminado>=0.8.3 in ./anaconda3/lib/python3.10/site-packages (from notebook->jupyter) (0.17.1)\n",
      "Requirement already satisfied: Send2Trash>=1.8.0 in ./anaconda3/lib/python3.10/site-packages (from notebook->jupyter) (1.8.0)\n",
      "Requirement already satisfied: nbclassic>=0.4.7 in ./anaconda3/lib/python3.10/site-packages (from notebook->jupyter) (0.5.2)\n",
      "Requirement already satisfied: prometheus-client in ./anaconda3/lib/python3.10/site-packages (from notebook->jupyter) (0.14.1)\n",
      "Requirement already satisfied: argon2-cffi in ./anaconda3/lib/python3.10/site-packages (from notebook->jupyter) (21.3.0)\n",
      "Requirement already satisfied: qtpy>=2.0.1 in ./anaconda3/lib/python3.10/site-packages (from qtconsole->jupyter) (2.2.0)\n",
      "Requirement already satisfied: pickleshare in ./anaconda3/lib/python3.10/site-packages (from ipython>=7.23.1->ipykernel->jupyter) (0.7.5)\n",
      "Requirement already satisfied: jedi>=0.16 in ./anaconda3/lib/python3.10/site-packages (from ipython>=7.23.1->ipykernel->jupyter) (0.18.1)\n",
      "Requirement already satisfied: decorator in ./anaconda3/lib/python3.10/site-packages (from ipython>=7.23.1->ipykernel->jupyter) (5.1.1)\n",
      "Requirement already satisfied: pexpect>4.3 in ./anaconda3/lib/python3.10/site-packages (from ipython>=7.23.1->ipykernel->jupyter) (4.8.0)\n",
      "Requirement already satisfied: stack-data in ./anaconda3/lib/python3.10/site-packages (from ipython>=7.23.1->ipykernel->jupyter) (0.2.0)\n",
      "Requirement already satisfied: backcall in ./anaconda3/lib/python3.10/site-packages (from ipython>=7.23.1->ipykernel->jupyter) (0.2.0)\n",
      "Requirement already satisfied: platformdirs>=2.5 in ./anaconda3/lib/python3.10/site-packages (from jupyter-core!=5.0.*,>=4.12->jupyter-console->jupyter) (2.5.2)\n",
      "Requirement already satisfied: notebook-shim>=0.1.0 in ./anaconda3/lib/python3.10/site-packages (from nbclassic>=0.4.7->notebook->jupyter) (0.2.2)\n",
      "Requirement already satisfied: jupyter-server>=1.8 in ./anaconda3/lib/python3.10/site-packages (from nbclassic>=0.4.7->notebook->jupyter) (1.23.4)\n",
      "Requirement already satisfied: jsonschema>=2.6 in ./anaconda3/lib/python3.10/site-packages (from nbformat>=4.2.0->ipywidgets->jupyter) (4.17.3)\n",
      "Requirement already satisfied: fastjsonschema in ./anaconda3/lib/python3.10/site-packages (from nbformat>=4.2.0->ipywidgets->jupyter) (2.16.2)\n",
      "Requirement already satisfied: wcwidth in ./anaconda3/lib/python3.10/site-packages (from prompt-toolkit>=3.0.30->jupyter-console->jupyter) (0.2.5)\n",
      "Requirement already satisfied: ptyprocess in ./anaconda3/lib/python3.10/site-packages (from terminado>=0.8.3->notebook->jupyter) (0.7.0)\n",
      "Requirement already satisfied: argon2-cffi-bindings in ./anaconda3/lib/python3.10/site-packages (from argon2-cffi->notebook->jupyter) (21.2.0)\n",
      "Requirement already satisfied: webencodings in ./anaconda3/lib/python3.10/site-packages (from bleach->nbconvert->jupyter) (0.5.1)\n",
      "Requirement already satisfied: parso<0.9.0,>=0.8.0 in ./anaconda3/lib/python3.10/site-packages (from jedi>=0.16->ipython>=7.23.1->ipykernel->jupyter) (0.8.3)\n",
      "Requirement already satisfied: pyrsistent!=0.17.0,!=0.17.1,!=0.17.2,>=0.14.0 in ./anaconda3/lib/python3.10/site-packages (from jsonschema>=2.6->nbformat>=4.2.0->ipywidgets->jupyter) (0.18.0)\n",
      "Requirement already satisfied: attrs>=17.4.0 in ./anaconda3/lib/python3.10/site-packages (from jsonschema>=2.6->nbformat>=4.2.0->ipywidgets->jupyter) (24.2.0)\n",
      "Requirement already satisfied: websocket-client in ./anaconda3/lib/python3.10/site-packages (from jupyter-server>=1.8->nbclassic>=0.4.7->notebook->jupyter) (1.8.0)\n",
      "Requirement already satisfied: anyio<4,>=3.1.0 in ./anaconda3/lib/python3.10/site-packages (from jupyter-server>=1.8->nbclassic>=0.4.7->notebook->jupyter) (3.5.0)\n",
      "Requirement already satisfied: cffi>=1.0.1 in ./anaconda3/lib/python3.10/site-packages (from argon2-cffi-bindings->argon2-cffi->notebook->jupyter) (1.15.1)\n",
      "Requirement already satisfied: asttokens in ./anaconda3/lib/python3.10/site-packages (from stack-data->ipython>=7.23.1->ipykernel->jupyter) (2.0.5)\n",
      "Requirement already satisfied: pure-eval in ./anaconda3/lib/python3.10/site-packages (from stack-data->ipython>=7.23.1->ipykernel->jupyter) (0.2.2)\n",
      "Requirement already satisfied: executing in ./anaconda3/lib/python3.10/site-packages (from stack-data->ipython>=7.23.1->ipykernel->jupyter) (0.8.3)\n",
      "Requirement already satisfied: sniffio>=1.1 in ./anaconda3/lib/python3.10/site-packages (from anyio<4,>=3.1.0->jupyter-server>=1.8->nbclassic>=0.4.7->notebook->jupyter) (1.3.1)\n",
      "Requirement already satisfied: pycparser in ./anaconda3/lib/python3.10/site-packages (from cffi>=1.0.1->argon2-cffi-bindings->argon2-cffi->notebook->jupyter) (2.21)\n",
      "Requirement already satisfied: matplotlib in ./anaconda3/lib/python3.10/site-packages (3.7.0)\n",
      "Requirement already satisfied: packaging>=20.0 in ./anaconda3/lib/python3.10/site-packages (from matplotlib) (22.0)\n",
      "Requirement already satisfied: pillow>=6.2.0 in ./anaconda3/lib/python3.10/site-packages (from matplotlib) (9.4.0)\n",
      "Requirement already satisfied: kiwisolver>=1.0.1 in ./anaconda3/lib/python3.10/site-packages (from matplotlib) (1.4.4)\n",
      "Requirement already satisfied: cycler>=0.10 in ./anaconda3/lib/python3.10/site-packages (from matplotlib) (0.11.0)\n",
      "Requirement already satisfied: python-dateutil>=2.7 in ./anaconda3/lib/python3.10/site-packages (from matplotlib) (2.8.2)\n",
      "Requirement already satisfied: fonttools>=4.22.0 in ./anaconda3/lib/python3.10/site-packages (from matplotlib) (4.25.0)\n",
      "Requirement already satisfied: numpy>=1.20 in ./anaconda3/lib/python3.10/site-packages (from matplotlib) (1.26.4)\n",
      "Requirement already satisfied: contourpy>=1.0.1 in ./anaconda3/lib/python3.10/site-packages (from matplotlib) (1.0.5)\n",
      "Requirement already satisfied: pyparsing>=2.3.1 in ./anaconda3/lib/python3.10/site-packages (from matplotlib) (3.0.9)\n",
      "Requirement already satisfied: six>=1.5 in ./anaconda3/lib/python3.10/site-packages (from python-dateutil>=2.7->matplotlib) (1.16.0)\n"
     ]
    }
   ],
   "source": [
    "!pip install yfinance\n",
    "!pip install pandas requests beautifulsoup4 jupyter\n",
    "!pip install matplotlib"
   ]
  },
  {
   "cell_type": "markdown",
   "id": "93212df7",
   "metadata": {},
   "source": [
    "# Module"
   ]
  },
  {
   "cell_type": "code",
   "execution_count": 2,
   "id": "9bf00ecd",
   "metadata": {},
   "outputs": [],
   "source": [
    "import yfinance as yf\n",
    "import requests\n",
    "from bs4 import BeautifulSoup\n",
    "import pandas as pd\n",
    "import matplotlib.pyplot as plt"
   ]
  },
  {
   "cell_type": "markdown",
   "id": "9dedfb6e",
   "metadata": {},
   "source": [
    "# Definition"
   ]
  },
  {
   "cell_type": "markdown",
   "id": "2e91b6c0",
   "metadata": {},
   "source": [
    "Define function to fetch revenue data"
   ]
  },
  {
   "cell_type": "code",
   "execution_count": 3,
   "id": "aec557d9",
   "metadata": {},
   "outputs": [],
   "source": [
    "def fetch_revenue_data(url):\n",
    "    headers = {\n",
    "        'User-Agent': 'Mozilla/5.0 (Windows NT 10.0; Win64; x64) AppleWebKit/537.36 (KHTML, like Gecko) Chrome/91.0.4472.124 Safari/537.36'\n",
    "    }\n",
    "    response = requests.get(url, headers=headers)\n",
    "    response.raise_for_status()  # Check for request errors\n",
    "\n",
    "    soup = BeautifulSoup(response.text, 'html.parser')\n",
    "    table = soup.find('table', {'class': 'table'})\n",
    "    if table is None:\n",
    "        raise ValueError(\"Table not found on the page\")\n",
    "\n",
    "    header_row = table.find('thead')\n",
    "    headers = [th.text.strip() for th in header_row.find_all('th')] if header_row else []\n",
    "\n",
    "    data = []\n",
    "    for row in table.find_all('tr')[1:]:  # Skip the header row\n",
    "        cols = row.find_all('td')\n",
    "        cols = [col.text.strip() for col in cols]\n",
    "        data.append(cols)\n",
    "\n",
    "    if len(headers) != len(data[0]):\n",
    "        if len(headers) == 1 and len(data[0]) == 2:\n",
    "            headers = ['Year', 'Revenue']\n",
    "\n",
    "    df = pd.DataFrame(data, columns=headers)\n",
    "    df['Revenue'] = df['Revenue'].replace({'\\$': '', ',': ''}, regex=True).astype(float, errors='ignore')\n",
    "\n",
    "    return df"
   ]
  },
  {
   "cell_type": "markdown",
   "id": "6519b132",
   "metadata": {},
   "source": [
    "Define the make_graph Function"
   ]
  },
  {
   "cell_type": "code",
   "execution_count": 4,
   "id": "9edd06d0",
   "metadata": {},
   "outputs": [],
   "source": [
    "def make_graph(data, title):\n",
    "    plt.figure(figsize=(12, 6))\n",
    "    plt.plot(data['Date'], data['Close'], label='Close Price', color='blue')\n",
    "    plt.xlabel('Date')\n",
    "    plt.ylabel('Price')\n",
    "    plt.title(title)\n",
    "    plt.legend()\n",
    "    plt.grid(True)\n",
    "    plt.xticks(rotation=45)\n",
    "    plt.tight_layout()\n",
    "    plt.show()"
   ]
  },
  {
   "cell_type": "markdown",
   "id": "a798355f",
   "metadata": {},
   "source": [
    "# Question 1: Use yfinance to Extract Tesla Stock Data"
   ]
  },
  {
   "cell_type": "code",
   "execution_count": 5,
   "id": "f458c9ff",
   "metadata": {
    "scrolled": true
   },
   "outputs": [
    {
     "data": {
      "text/html": [
       "<div>\n",
       "<style scoped>\n",
       "    .dataframe tbody tr th:only-of-type {\n",
       "        vertical-align: middle;\n",
       "    }\n",
       "\n",
       "    .dataframe tbody tr th {\n",
       "        vertical-align: top;\n",
       "    }\n",
       "\n",
       "    .dataframe thead th {\n",
       "        text-align: right;\n",
       "    }\n",
       "</style>\n",
       "<table border=\"1\" class=\"dataframe\">\n",
       "  <thead>\n",
       "    <tr style=\"text-align: right;\">\n",
       "      <th></th>\n",
       "      <th>Date</th>\n",
       "      <th>Open</th>\n",
       "      <th>High</th>\n",
       "      <th>Low</th>\n",
       "      <th>Close</th>\n",
       "      <th>Volume</th>\n",
       "      <th>Dividends</th>\n",
       "      <th>Stock Splits</th>\n",
       "    </tr>\n",
       "  </thead>\n",
       "  <tbody>\n",
       "    <tr>\n",
       "      <th>0</th>\n",
       "      <td>2010-06-29 00:00:00-04:00</td>\n",
       "      <td>1.266667</td>\n",
       "      <td>1.666667</td>\n",
       "      <td>1.169333</td>\n",
       "      <td>1.592667</td>\n",
       "      <td>281494500</td>\n",
       "      <td>0.0</td>\n",
       "      <td>0.0</td>\n",
       "    </tr>\n",
       "    <tr>\n",
       "      <th>1</th>\n",
       "      <td>2010-06-30 00:00:00-04:00</td>\n",
       "      <td>1.719333</td>\n",
       "      <td>2.028000</td>\n",
       "      <td>1.553333</td>\n",
       "      <td>1.588667</td>\n",
       "      <td>257806500</td>\n",
       "      <td>0.0</td>\n",
       "      <td>0.0</td>\n",
       "    </tr>\n",
       "    <tr>\n",
       "      <th>2</th>\n",
       "      <td>2010-07-01 00:00:00-04:00</td>\n",
       "      <td>1.666667</td>\n",
       "      <td>1.728000</td>\n",
       "      <td>1.351333</td>\n",
       "      <td>1.464000</td>\n",
       "      <td>123282000</td>\n",
       "      <td>0.0</td>\n",
       "      <td>0.0</td>\n",
       "    </tr>\n",
       "    <tr>\n",
       "      <th>3</th>\n",
       "      <td>2010-07-02 00:00:00-04:00</td>\n",
       "      <td>1.533333</td>\n",
       "      <td>1.540000</td>\n",
       "      <td>1.247333</td>\n",
       "      <td>1.280000</td>\n",
       "      <td>77097000</td>\n",
       "      <td>0.0</td>\n",
       "      <td>0.0</td>\n",
       "    </tr>\n",
       "    <tr>\n",
       "      <th>4</th>\n",
       "      <td>2010-07-06 00:00:00-04:00</td>\n",
       "      <td>1.333333</td>\n",
       "      <td>1.333333</td>\n",
       "      <td>1.055333</td>\n",
       "      <td>1.074000</td>\n",
       "      <td>103003500</td>\n",
       "      <td>0.0</td>\n",
       "      <td>0.0</td>\n",
       "    </tr>\n",
       "  </tbody>\n",
       "</table>\n",
       "</div>"
      ],
      "text/plain": [
       "                       Date      Open      High       Low     Close  \\\n",
       "0 2010-06-29 00:00:00-04:00  1.266667  1.666667  1.169333  1.592667   \n",
       "1 2010-06-30 00:00:00-04:00  1.719333  2.028000  1.553333  1.588667   \n",
       "2 2010-07-01 00:00:00-04:00  1.666667  1.728000  1.351333  1.464000   \n",
       "3 2010-07-02 00:00:00-04:00  1.533333  1.540000  1.247333  1.280000   \n",
       "4 2010-07-06 00:00:00-04:00  1.333333  1.333333  1.055333  1.074000   \n",
       "\n",
       "      Volume  Dividends  Stock Splits  \n",
       "0  281494500        0.0           0.0  \n",
       "1  257806500        0.0           0.0  \n",
       "2  123282000        0.0           0.0  \n",
       "3   77097000        0.0           0.0  \n",
       "4  103003500        0.0           0.0  "
      ]
     },
     "execution_count": 5,
     "metadata": {},
     "output_type": "execute_result"
    }
   ],
   "source": [
    "# Define the ticker symbol for Tesla\n",
    "ticker_symbol = 'TSLA'\n",
    "\n",
    "# Create a Ticker object for Tesla\n",
    "tesla = yf.Ticker(ticker_symbol)\n",
    "\n",
    "# Fetch Tesla stock data for the maximum available period\n",
    "tesla_data = tesla.history(period=\"max\")\n",
    "\n",
    "# Reset the index to turn the date into a column\n",
    "tesla_data.reset_index(inplace=True)\n",
    "\n",
    "# Display the first five rows of the DataFrame\n",
    "tesla_data.head()"
   ]
  },
  {
   "cell_type": "markdown",
   "id": "000399ea",
   "metadata": {},
   "source": [
    "# Question 2: Use Webscraping to Extract Tesla Revenue Data"
   ]
  },
  {
   "cell_type": "code",
   "execution_count": 6,
   "id": "16b21955",
   "metadata": {},
   "outputs": [
    {
     "name": "stdout",
     "output_type": "stream",
     "text": [
      "\n",
      "Tesla Revenue Data:\n"
     ]
    },
    {
     "data": {
      "text/html": [
       "<div>\n",
       "<style scoped>\n",
       "    .dataframe tbody tr th:only-of-type {\n",
       "        vertical-align: middle;\n",
       "    }\n",
       "\n",
       "    .dataframe tbody tr th {\n",
       "        vertical-align: top;\n",
       "    }\n",
       "\n",
       "    .dataframe thead th {\n",
       "        text-align: right;\n",
       "    }\n",
       "</style>\n",
       "<table border=\"1\" class=\"dataframe\">\n",
       "  <thead>\n",
       "    <tr style=\"text-align: right;\">\n",
       "      <th></th>\n",
       "      <th>Year</th>\n",
       "      <th>Revenue</th>\n",
       "    </tr>\n",
       "  </thead>\n",
       "  <tbody>\n",
       "    <tr>\n",
       "      <th>10</th>\n",
       "      <td>2013</td>\n",
       "      <td>2013.0</td>\n",
       "    </tr>\n",
       "    <tr>\n",
       "      <th>11</th>\n",
       "      <td>2012</td>\n",
       "      <td>413.0</td>\n",
       "    </tr>\n",
       "    <tr>\n",
       "      <th>12</th>\n",
       "      <td>2011</td>\n",
       "      <td>204.0</td>\n",
       "    </tr>\n",
       "    <tr>\n",
       "      <th>13</th>\n",
       "      <td>2010</td>\n",
       "      <td>117.0</td>\n",
       "    </tr>\n",
       "    <tr>\n",
       "      <th>14</th>\n",
       "      <td>2009</td>\n",
       "      <td>112.0</td>\n",
       "    </tr>\n",
       "  </tbody>\n",
       "</table>\n",
       "</div>"
      ],
      "text/plain": [
       "    Year  Revenue\n",
       "10  2013   2013.0\n",
       "11  2012    413.0\n",
       "12  2011    204.0\n",
       "13  2010    117.0\n",
       "14  2009    112.0"
      ]
     },
     "execution_count": 6,
     "metadata": {},
     "output_type": "execute_result"
    }
   ],
   "source": [
    "# Fetch Tesla revenue data\n",
    "tesla_revenue_url = \"https://www.macrotrends.net/stocks/charts/TSLA/tesla/revenue\"\n",
    "tesla_revenue_df = fetch_revenue_data(tesla_revenue_url)\n",
    "print(\"\\nTesla Revenue Data:\")\n",
    "tesla_revenue_df.tail()"
   ]
  },
  {
   "cell_type": "markdown",
   "id": "6054f86d",
   "metadata": {},
   "source": [
    "# Question 3: Use yfinance to Extract GME Stock Data"
   ]
  },
  {
   "cell_type": "code",
   "execution_count": 7,
   "id": "af614031",
   "metadata": {},
   "outputs": [
    {
     "data": {
      "text/html": [
       "<div>\n",
       "<style scoped>\n",
       "    .dataframe tbody tr th:only-of-type {\n",
       "        vertical-align: middle;\n",
       "    }\n",
       "\n",
       "    .dataframe tbody tr th {\n",
       "        vertical-align: top;\n",
       "    }\n",
       "\n",
       "    .dataframe thead th {\n",
       "        text-align: right;\n",
       "    }\n",
       "</style>\n",
       "<table border=\"1\" class=\"dataframe\">\n",
       "  <thead>\n",
       "    <tr style=\"text-align: right;\">\n",
       "      <th></th>\n",
       "      <th>Date</th>\n",
       "      <th>Open</th>\n",
       "      <th>High</th>\n",
       "      <th>Low</th>\n",
       "      <th>Close</th>\n",
       "      <th>Volume</th>\n",
       "      <th>Dividends</th>\n",
       "      <th>Stock Splits</th>\n",
       "    </tr>\n",
       "  </thead>\n",
       "  <tbody>\n",
       "    <tr>\n",
       "      <th>0</th>\n",
       "      <td>2002-02-13 00:00:00-05:00</td>\n",
       "      <td>1.620129</td>\n",
       "      <td>1.693350</td>\n",
       "      <td>1.603296</td>\n",
       "      <td>1.691667</td>\n",
       "      <td>76216000</td>\n",
       "      <td>0.0</td>\n",
       "      <td>0.0</td>\n",
       "    </tr>\n",
       "    <tr>\n",
       "      <th>1</th>\n",
       "      <td>2002-02-14 00:00:00-05:00</td>\n",
       "      <td>1.712708</td>\n",
       "      <td>1.716074</td>\n",
       "      <td>1.670626</td>\n",
       "      <td>1.683251</td>\n",
       "      <td>11021600</td>\n",
       "      <td>0.0</td>\n",
       "      <td>0.0</td>\n",
       "    </tr>\n",
       "    <tr>\n",
       "      <th>2</th>\n",
       "      <td>2002-02-15 00:00:00-05:00</td>\n",
       "      <td>1.683250</td>\n",
       "      <td>1.687458</td>\n",
       "      <td>1.658002</td>\n",
       "      <td>1.674834</td>\n",
       "      <td>8389600</td>\n",
       "      <td>0.0</td>\n",
       "      <td>0.0</td>\n",
       "    </tr>\n",
       "    <tr>\n",
       "      <th>3</th>\n",
       "      <td>2002-02-19 00:00:00-05:00</td>\n",
       "      <td>1.666418</td>\n",
       "      <td>1.666418</td>\n",
       "      <td>1.578047</td>\n",
       "      <td>1.607504</td>\n",
       "      <td>7410400</td>\n",
       "      <td>0.0</td>\n",
       "      <td>0.0</td>\n",
       "    </tr>\n",
       "    <tr>\n",
       "      <th>4</th>\n",
       "      <td>2002-02-20 00:00:00-05:00</td>\n",
       "      <td>1.615920</td>\n",
       "      <td>1.662210</td>\n",
       "      <td>1.603296</td>\n",
       "      <td>1.662210</td>\n",
       "      <td>6892800</td>\n",
       "      <td>0.0</td>\n",
       "      <td>0.0</td>\n",
       "    </tr>\n",
       "  </tbody>\n",
       "</table>\n",
       "</div>"
      ],
      "text/plain": [
       "                       Date      Open      High       Low     Close    Volume  \\\n",
       "0 2002-02-13 00:00:00-05:00  1.620129  1.693350  1.603296  1.691667  76216000   \n",
       "1 2002-02-14 00:00:00-05:00  1.712708  1.716074  1.670626  1.683251  11021600   \n",
       "2 2002-02-15 00:00:00-05:00  1.683250  1.687458  1.658002  1.674834   8389600   \n",
       "3 2002-02-19 00:00:00-05:00  1.666418  1.666418  1.578047  1.607504   7410400   \n",
       "4 2002-02-20 00:00:00-05:00  1.615920  1.662210  1.603296  1.662210   6892800   \n",
       "\n",
       "   Dividends  Stock Splits  \n",
       "0        0.0           0.0  \n",
       "1        0.0           0.0  \n",
       "2        0.0           0.0  \n",
       "3        0.0           0.0  \n",
       "4        0.0           0.0  "
      ]
     },
     "execution_count": 7,
     "metadata": {},
     "output_type": "execute_result"
    }
   ],
   "source": [
    "# Define the ticker symbol for GME\n",
    "gme_symbol = 'GME'\n",
    "\n",
    "# Create a Ticker object for GME\n",
    "gme = yf.Ticker(gme_symbol)\n",
    "\n",
    "# Fetch GME stock data for the maximum available period\n",
    "gme_data = gme.history(period=\"max\")\n",
    "\n",
    "# Reset the index to turn the date into a column\n",
    "gme_data.reset_index(inplace=True)\n",
    "\n",
    "# Display the first five rows of the DataFrame\n",
    "gme_data.head()"
   ]
  },
  {
   "cell_type": "markdown",
   "id": "a0e566a7",
   "metadata": {},
   "source": [
    "# Question 4: Use Webscraping to Extract GME Revenue Data"
   ]
  },
  {
   "cell_type": "code",
   "execution_count": 8,
   "id": "c7c18626",
   "metadata": {},
   "outputs": [
    {
     "name": "stdout",
     "output_type": "stream",
     "text": [
      "\n",
      "GME Revenue Data:\n"
     ]
    },
    {
     "data": {
      "text/html": [
       "<div>\n",
       "<style scoped>\n",
       "    .dataframe tbody tr th:only-of-type {\n",
       "        vertical-align: middle;\n",
       "    }\n",
       "\n",
       "    .dataframe tbody tr th {\n",
       "        vertical-align: top;\n",
       "    }\n",
       "\n",
       "    .dataframe thead th {\n",
       "        text-align: right;\n",
       "    }\n",
       "</style>\n",
       "<table border=\"1\" class=\"dataframe\">\n",
       "  <thead>\n",
       "    <tr style=\"text-align: right;\">\n",
       "      <th></th>\n",
       "      <th>Year</th>\n",
       "      <th>Revenue</th>\n",
       "    </tr>\n",
       "  </thead>\n",
       "  <tbody>\n",
       "    <tr>\n",
       "      <th>11</th>\n",
       "      <td>2013</td>\n",
       "      <td>8887.0</td>\n",
       "    </tr>\n",
       "    <tr>\n",
       "      <th>12</th>\n",
       "      <td>2012</td>\n",
       "      <td>9551.0</td>\n",
       "    </tr>\n",
       "    <tr>\n",
       "      <th>13</th>\n",
       "      <td>2011</td>\n",
       "      <td>9474.0</td>\n",
       "    </tr>\n",
       "    <tr>\n",
       "      <th>14</th>\n",
       "      <td>2010</td>\n",
       "      <td>9078.0</td>\n",
       "    </tr>\n",
       "    <tr>\n",
       "      <th>15</th>\n",
       "      <td>2009</td>\n",
       "      <td>8806.0</td>\n",
       "    </tr>\n",
       "  </tbody>\n",
       "</table>\n",
       "</div>"
      ],
      "text/plain": [
       "    Year  Revenue\n",
       "11  2013   8887.0\n",
       "12  2012   9551.0\n",
       "13  2011   9474.0\n",
       "14  2010   9078.0\n",
       "15  2009   8806.0"
      ]
     },
     "execution_count": 8,
     "metadata": {},
     "output_type": "execute_result"
    }
   ],
   "source": [
    "# Fetch GameStop revenue data\n",
    "gme_revenue_url = \"https://www.macrotrends.net/stocks/charts/GME/gamestop/revenue\"\n",
    "gme_revenue_df = fetch_revenue_data(gme_revenue_url)\n",
    "print(\"\\nGME Revenue Data:\")\n",
    "gme_revenue_df.tail()"
   ]
  },
  {
   "cell_type": "markdown",
   "id": "57754198",
   "metadata": {},
   "source": [
    "# Question 5: Plot Tesla Stock Graph"
   ]
  },
  {
   "cell_type": "code",
   "execution_count": 9,
   "id": "680cdb63",
   "metadata": {},
   "outputs": [
    {
     "data": {
      "image/png": "[encoded data removed]",
      "text/plain": [
       "<Figure size 1200x600 with 1 Axes>"
      ]
     },
     "metadata": {},
     "output_type": "display_data"
    }
   ],
   "source": [
    "# Plot Tesla Stock Graph\n",
    "make_graph(tesla_data, 'Tesla Stock Price Over Time')"
   ]
  },
  {
   "cell_type": "markdown",
   "id": "ac53b35d",
   "metadata": {},
   "source": [
    "# Question 6: Plot GameStop Stock Graph"
   ]
  },
  {
   "cell_type": "code",
   "execution_count": 10,
   "id": "6c4dde99",
   "metadata": {
    "scrolled": true
   },
   "outputs": [
    {
     "data": {
      "image/png": "[encoded data removed]",
      "text/plain": [
       "<Figure size 1200x600 with 1 Axes>"
      ]
     },
     "metadata": {},
     "output_type": "display_data"
    }
   ],
   "source": [
    "# Plot GameStop Stock Graph\n",
    "make_graph(gme_data, 'GameStop Stock Price Over Time')"
   ]
  }
 ],
 "metadata": {
  "kernelspec": {
   "display_name": "Python 3 (ipykernel)",
   "language": "python",
   "name": "python3"
  },
  "language_info": {
   "codemirror_mode": {
    "name": "ipython",
    "version": 3
   },
   "file_extension": ".py",
   "mimetype": "text/x-python",
   "name": "python",
   "nbconvert_exporter": "python",
   "pygments_lexer": "ipython3",
   "version": "3.10.9"
  }
 },
 "nbformat": 4,
 "nbformat_minor": 5
}
